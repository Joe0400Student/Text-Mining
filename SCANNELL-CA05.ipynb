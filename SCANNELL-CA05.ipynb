{
 "cells": [
  {
   "cell_type": "code",
   "execution_count": 2,
   "id": "0a51be06",
   "metadata": {},
   "outputs": [],
   "source": [
    "\n",
    "\n",
    "# I copyied this from the setup file cause \n",
    "# it wasnt working too well without it\n",
    "# directly in the notebook, so i just _made_ it part of\n",
    "# the notebook\n",
    "\n",
    "\n",
    "import matplotlib.pyplot as plt\n",
    "import html \n",
    "import re\n",
    "from sklearn.model_selection import train_test_split\n",
    "from sklearn.feature_extraction.text import TfidfVectorizer\n",
    "from sklearn.svm import SVC\n",
    "from sklearn.metrics import accuracy_score\n",
    "from sklearn.metrics import confusion_matrix\n",
    "from sklearn.metrics import classification_report\n",
    "from sklearn.metrics import plot_confusion_matrix\n",
    "from sklearn.model_selection import cross_val_score\n",
    "from sklearn.pipeline import Pipeline\n",
    "from sklearn.model_selection import GridSearchCV\n",
    "from sklearn.svm import LinearSVC\n",
    "from sklearn.dummy import DummyClassifier\n",
    "# suppress warnings\n",
    "import warnings;\n",
    "warnings.filterwarnings('ignore');\n",
    "\n",
    "# common imports\n",
    "import pandas as pd\n",
    "import numpy as np\n",
    "import math\n",
    "import re\n",
    "import glob\n",
    "import os\n",
    "import sys\n",
    "import json\n",
    "import random\n",
    "import pprint as pp\n",
    "import textwrap\n",
    "import sqlite3\n",
    "import logging\n",
    "\n",
    "import spacy\n",
    "import nltk\n",
    "\n",
    "from tqdm.auto import tqdm\n",
    "# register `pandas.progress_apply` and `pandas.Series.map_apply` with `tqdm`\n",
    "tqdm.pandas()\n",
    "\n",
    "# pandas display options\n",
    "# https://pandas.pydata.org/pandas-docs/stable/user_guide/options.html#available-options\n",
    "pd.options.display.max_columns = 30 # default 20\n",
    "pd.options.display.max_rows = 60 # default 60\n",
    "pd.options.display.float_format = '{:.2f}'.format\n",
    "# pd.options.display.precision = 2\n",
    "pd.options.display.max_colwidth = 200 # default 50; -1 = all\n",
    "# otherwise text between $ signs will be interpreted as formula and printed in italic\n",
    "pd.set_option('display.html.use_mathjax', False)\n",
    "\n",
    "# np.set_printoptions(edgeitems=3) # default 3\n",
    "\n",
    "import matplotlib\n",
    "from matplotlib import pyplot as plt\n",
    "\n",
    "plot_params = {'figure.figsize': (8, 4), \n",
    "               'axes.labelsize': 'large',\n",
    "               'axes.titlesize': 'large',\n",
    "               'xtick.labelsize': 'large',\n",
    "               'ytick.labelsize':'large',\n",
    "               'figure.dpi': 100}\n",
    "# adjust matplotlib defaults\n",
    "matplotlib.rcParams.update(plot_params)\n",
    "\n",
    "import seaborn as sns\n",
    "sns.set_style(\"darkgrid\")"
   ]
  },
  {
   "cell_type": "code",
   "execution_count": 3,
   "id": "98044b79",
   "metadata": {},
   "outputs": [
    {
     "name": "stdout",
     "output_type": "stream",
     "text": [
      "Index(['Issue_id', 'Priority', 'Component', 'Duplicated_issue', 'Title',\n",
      "       'Description', 'Status', 'Resolution', 'Version', 'Created_time',\n",
      "       'Resolved_time'],\n",
      "      dtype='object')\n"
     ]
    },
    {
     "data": {
      "text/html": [
       "<div>\n",
       "<style scoped>\n",
       "    .dataframe tbody tr th:only-of-type {\n",
       "        vertical-align: middle;\n",
       "    }\n",
       "\n",
       "    .dataframe tbody tr th {\n",
       "        vertical-align: top;\n",
       "    }\n",
       "\n",
       "    .dataframe thead th {\n",
       "        text-align: right;\n",
       "    }\n",
       "</style>\n",
       "<table border=\"1\" class=\"dataframe tex2jax_ignore\">\n",
       "  <thead>\n",
       "    <tr style=\"text-align: right;\">\n",
       "      <th></th>\n",
       "      <th>Issue_id</th>\n",
       "      <th>Priority</th>\n",
       "      <th>Component</th>\n",
       "      <th>Title</th>\n",
       "      <th>Description</th>\n",
       "    </tr>\n",
       "  </thead>\n",
       "  <tbody>\n",
       "    <tr>\n",
       "      <th>38438</th>\n",
       "      <td>239715</td>\n",
       "      <td>P3</td>\n",
       "      <td>UI</td>\n",
       "      <td>No property tester for TestCaseElement for property projectNature</td>\n",
       "      <td>I20080613-2000; ; Not sure if this belongs to JDT/Debug or Platform/Debug.; ; I saw this error message several times today in my error log but Im not yet sure how to reproduce it.; ; -- Error Deta...</td>\n",
       "    </tr>\n",
       "    <tr>\n",
       "      <th>44129</th>\n",
       "      <td>395007</td>\n",
       "      <td>P3</td>\n",
       "      <td>UI</td>\n",
       "      <td>[package explorer] Refresh action not available on Java package folders</td>\n",
       "      <td>M3.; ; F5 (Refresh) is available as a context menu entry for ordinary source folders but not for Java package folders in the e4 Java Package explorer.; ; Please restore the 3.x functionality.</td>\n",
       "    </tr>\n",
       "  </tbody>\n",
       "</table>\n",
       "</div>"
      ],
      "text/plain": [
       "       Issue_id Priority Component  \\\n",
       "38438    239715       P3        UI   \n",
       "44129    395007       P3        UI   \n",
       "\n",
       "                                                                         Title  \\\n",
       "38438        No property tester for TestCaseElement for property projectNature   \n",
       "44129  [package explorer] Refresh action not available on Java package folders   \n",
       "\n",
       "                                                                                                                                                                                                   Description  \n",
       "38438  I20080613-2000; ; Not sure if this belongs to JDT/Debug or Platform/Debug.; ; I saw this error message several times today in my error log but Im not yet sure how to reproduce it.; ; -- Error Deta...  \n",
       "44129          M3.; ; F5 (Refresh) is available as a context menu entry for ordinary source folders but not for Java package folders in the e4 Java Package explorer.; ; Please restore the 3.x functionality.  "
      ]
     },
     "execution_count": 3,
     "metadata": {},
     "output_type": "execute_result"
    }
   ],
   "source": [
    "# this i modified to indicate where the document is stored\n",
    "# on my laptop, so its directory is probably not going to \n",
    "# work for you, just change hte base dir location and should\n",
    "# work\n",
    "\n",
    "file = \"eclipse_jdt.csv\"\n",
    "BASE_DIR = \"/home/joe0400/Documents\"\n",
    "file = f\"{BASE_DIR}/eclipse_jdt.csv.gz\" ### real location\n",
    "df = pd.read_csv(file)\n",
    "print (df.columns)\n",
    "df[['Issue_id','Priority','Component','Title','Description']].sample(2, random_state=42)\n",
    "\n"
   ]
  },
  {
   "cell_type": "code",
   "execution_count": 4,
   "id": "2c2a6c0e",
   "metadata": {},
   "outputs": [],
   "source": [
    "df = df[['Title','Description','Priority']] ### Remove other attributes\n",
    "df = df.dropna()"
   ]
  },
  {
   "cell_type": "code",
   "execution_count": 5,
   "id": "ace70123",
   "metadata": {},
   "outputs": [
    {
     "data": {
      "text/plain": [
       "{'P5': 0.0055686915784588864,\n",
       " 'P3': 0.8766932579055532,\n",
       " 'P2': 0.06768612025722051,\n",
       " 'P1': 0.024793936313614567,\n",
       " 'P4': 0.025257993945152806}"
      ]
     },
     "execution_count": 5,
     "metadata": {},
     "output_type": "execute_result"
    }
   ],
   "source": [
    "distributions_of_df_priority_label = {key:sum([int(v == key) for v in df['Priority']]) for key in set(df['Priority'])}\n",
    "probability_of_df_priority_label = {key:distributions_of_df_priority_label[key] / sum(distributions_of_df_priority_label.values()) for key in distributions_of_df_priority_label.keys()}\n",
    "probability_of_df_priority_label"
   ]
  },
  {
   "cell_type": "code",
   "execution_count": 6,
   "id": "43f517eb",
   "metadata": {},
   "outputs": [
    {
     "data": {
      "text/plain": [
       "Index(['Priority', 'text'], dtype='object')"
      ]
     },
     "execution_count": 6,
     "metadata": {},
     "output_type": "execute_result"
    }
   ],
   "source": [
    "df['text'] = df['Title'] + ' ' + df['Description'] ### Combine title and description into text\n",
    "df = df.drop(columns=['Title','Description']) ### Drop title and description columns\n",
    "df.columns"
   ]
  },
  {
   "cell_type": "code",
   "execution_count": 7,
   "id": "3bacbbda",
   "metadata": {},
   "outputs": [
    {
     "data": {
      "text/html": [
       "<div>\n",
       "<style scoped>\n",
       "    .dataframe tbody tr th:only-of-type {\n",
       "        vertical-align: middle;\n",
       "    }\n",
       "\n",
       "    .dataframe tbody tr th {\n",
       "        vertical-align: top;\n",
       "    }\n",
       "\n",
       "    .dataframe thead th {\n",
       "        text-align: right;\n",
       "    }\n",
       "</style>\n",
       "<table border=\"1\" class=\"dataframe tex2jax_ignore\">\n",
       "  <thead>\n",
       "    <tr style=\"text-align: right;\">\n",
       "      <th></th>\n",
       "      <th>Priority</th>\n",
       "      <th>text</th>\n",
       "    </tr>\n",
       "  </thead>\n",
       "  <tbody>\n",
       "    <tr>\n",
       "      <th>0</th>\n",
       "      <td>P1</td>\n",
       "      <td>Icons needed for actions (1GI5UXW) JGS (8/8/01 5:20:19 PM); We need enabled; disabled hover icons for the following actions:; CopyToClipboardActionDelegate; RelaunchActionDelegate; TerminateAndRem...</td>\n",
       "    </tr>\n",
       "    <tr>\n",
       "      <th>1</th>\n",
       "      <td>P3</td>\n",
       "      <td>README: Hit count not reset (1GET20Y) JGS (6/4/01 11:43:47 AM); Set a breakpoint in InfiniteLoop with a hit count. When suspended;; right click breakpoint in Breakpoints viewer and enable. Hit cou...</td>\n",
       "    </tr>\n",
       "  </tbody>\n",
       "</table>\n",
       "</div>"
      ],
      "text/plain": [
       "  Priority  \\\n",
       "0       P1   \n",
       "1       P3   \n",
       "\n",
       "                                                                                                                                                                                                      text  \n",
       "0  Icons needed for actions (1GI5UXW) JGS (8/8/01 5:20:19 PM); We need enabled; disabled hover icons for the following actions:; CopyToClipboardActionDelegate; RelaunchActionDelegate; TerminateAndRem...  \n",
       "1  README: Hit count not reset (1GET20Y) JGS (6/4/01 11:43:47 AM); Set a breakpoint in InfiniteLoop with a hit count. When suspended;; right click breakpoint in Breakpoints viewer and enable. Hit cou...  "
      ]
     },
     "execution_count": 7,
     "metadata": {},
     "output_type": "execute_result"
    }
   ],
   "source": [
    "def clean(text):\n",
    "    # convert html escapes like &amp; to characters.\n",
    "    text = html.unescape(text) \n",
    "    # tags like <tab>\n",
    "    text = re.sub(r'<[^<>]*>', ' ', text)\n",
    "    # markdown URLs like [Some text](https://....)\n",
    "    text = re.sub(r'\\[([^\\[\\]]*)\\]\\([^\\(\\)]*\\)', r'\\1', text)\n",
    "    # text or code in brackets like [0]\n",
    "    text = re.sub(r'\\[[^\\[\\]]*\\]', ' ', text)\n",
    "    # standalone sequences of specials, matches &# but not #cool\n",
    "    text = re.sub(r'(?:^|\\s)[&#<>{}\\[\\]+|\\\\:-]{1,}(?:\\s|$)', ' ', text)\n",
    "    # standalone sequences of hyphens like --- or ==\n",
    "    text = re.sub(r'(?:^|\\s)[\\-=\\+]{2,}(?:\\s|$)', ' ', text)\n",
    "    # sequences of white spaces\n",
    "    text = re.sub(r'\\s+', ' ', text)\n",
    "    return text.strip()\n",
    "\n",
    "df['text'] = df['text'].apply(clean)\n",
    "df = df[df['text'].str.len() > 50]\n",
    "df[0:2]"
   ]
  },
  {
   "cell_type": "code",
   "execution_count": 32,
   "id": "ea03245d",
   "metadata": {},
   "outputs": [
    {
     "name": "stdout",
     "output_type": "stream",
     "text": [
      "Size of Training Data  36040\n",
      "Size of Test Data  9011\n"
     ]
    }
   ],
   "source": [
    "X_train, X_test, Y_train, Y_test = train_test_split(df['text'],\n",
    "                                                    df['Priority'],\n",
    "                                                    test_size=0.2, ### 80-20 train-test split\n",
    "                                                    random_state=42,\n",
    "                                                    stratify=df['Priority'])\n",
    "\n",
    "print('Size of Training Data ', X_train.shape[0])\n",
    "print('Size of Test Data ', X_test.shape[0])"
   ]
  },
  {
   "cell_type": "code",
   "execution_count": null,
   "id": "4474d291",
   "metadata": {},
   "outputs": [],
   "source": []
  },
  {
   "cell_type": "code",
   "execution_count": null,
   "id": "6519edbc",
   "metadata": {},
   "outputs": [],
   "source": []
  },
  {
   "cell_type": "code",
   "execution_count": null,
   "id": "37205bed",
   "metadata": {},
   "outputs": [],
   "source": []
  },
  {
   "cell_type": "code",
   "execution_count": 33,
   "id": "9882845b",
   "metadata": {},
   "outputs": [],
   "source": [
    "# alright this creats a comparison dict between y_train and the priority labels, where each is stored as a probability\n",
    "\n",
    "comparison = {v:sum([int(i == v) for i in Y_train.values]) / len(Y_train.values) for v in set(list(Y_train.values))}"
   ]
  },
  {
   "cell_type": "code",
   "execution_count": 34,
   "id": "037f4c39",
   "metadata": {},
   "outputs": [
    {
     "data": {
      "text/plain": [
       "{'P5': 0.00560488346281909,\n",
       " 'P3': 0.8769145394006659,\n",
       " 'P2': 0.06742508324084351,\n",
       " 'P1': 0.024805771365149835,\n",
       " 'P4': 0.025249722530521643}"
      ]
     },
     "execution_count": 34,
     "metadata": {},
     "output_type": "execute_result"
    }
   ],
   "source": [
    "comparison"
   ]
  },
  {
   "cell_type": "code",
   "execution_count": 35,
   "id": "1986a6d2",
   "metadata": {},
   "outputs": [
    {
     "name": "stdout",
     "output_type": "stream",
     "text": [
      "kl divergince between training data and df = 6.538546114509989e-07\n"
     ]
    }
   ],
   "source": [
    "from math import log\n",
    "# this calculates kl_divergence using the formula provided\n",
    "def kl_divergence(p,q):\n",
    "    return sum((P * log(P/Q) for P,Q in zip(p,q)))\n",
    "names = ['P1','P2','P3','P4','P5']\n",
    "# this then uses the function to calculate by converting the dicts to aligned lists\n",
    "print(f\"kl divergince between training data and df = {kl_divergence([probability_of_df_priority_label[k] for k in names],[comparison[k] for k in names])}\")"
   ]
  },
  {
   "cell_type": "code",
   "execution_count": 36,
   "id": "15847ef9",
   "metadata": {},
   "outputs": [],
   "source": [
    "# Sample 4000 bug reports with priority P3 \n",
    "df_P3 = df[df['Priority'] == 'P3'].sample(n=4000, random_state=123)\n",
    "\n",
    "# Create a separate dataframe containing all other bug reports\n",
    "df_Rest = df[df['Priority'] != 'P3']\n",
    "\n",
    "# Concatenate the two dataframes to create the new balanced bug reports dataset\n",
    "df_balanced = pd.concat([df_Rest, df_P3])\n",
    "\n",
    "# Check the status of the class imbalance\n",
    "\n",
    "\n",
    "# this calculates the dictionary of counts for df_balanced\n",
    "balanced_dictionary = {val: len([v for v in df_balanced['Priority'].values if v == val]) for val in set(df_balanced['Priority'].values)}"
   ]
  },
  {
   "cell_type": "code",
   "execution_count": 37,
   "id": "949506ce",
   "metadata": {},
   "outputs": [
    {
     "data": {
      "text/plain": [
       "{'P5': 252, 'P3': 4000, 'P2': 3038, 'P1': 1117, 'P4': 1138}"
      ]
     },
     "execution_count": 37,
     "metadata": {},
     "output_type": "execute_result"
    }
   ],
   "source": [
    "balanced_dictionary"
   ]
  },
  {
   "cell_type": "code",
   "execution_count": 38,
   "id": "405b5ffa",
   "metadata": {},
   "outputs": [],
   "source": [
    "# this then devides it by its sum\n",
    "balanced_probabilitys = {key:balanced_dictionary[key]/sum(balanced_dictionary.values()) for key in balanced_dictionary.keys()}"
   ]
  },
  {
   "cell_type": "code",
   "execution_count": 39,
   "id": "55adb5aa",
   "metadata": {},
   "outputs": [
    {
     "data": {
      "text/plain": [
       "{'P5': 0.02640125720272394,\n",
       " 'P3': 0.41906757464641176,\n",
       " 'P2': 0.3182818229439497,\n",
       " 'P1': 0.11702462022001048,\n",
       " 'P4': 0.11922472498690413}"
      ]
     },
     "execution_count": 39,
     "metadata": {},
     "output_type": "execute_result"
    }
   ],
   "source": [
    "balanced_probabilitys"
   ]
  },
  {
   "cell_type": "code",
   "execution_count": 40,
   "id": "2ee479ef",
   "metadata": {},
   "outputs": [],
   "source": [
    "\n",
    "df_new = df_balanced[['text', 'Priority']]"
   ]
  },
  {
   "cell_type": "code",
   "execution_count": 41,
   "id": "f6c2cf68",
   "metadata": {},
   "outputs": [],
   "source": [
    "# same for df_new\n",
    "df_new_balance = {key:len([v for v in df_new['Priority'].values if v == key]) for key in set(df_new['Priority'].values)}"
   ]
  },
  {
   "cell_type": "code",
   "execution_count": 42,
   "id": "8204b18e",
   "metadata": {},
   "outputs": [],
   "source": [
    "# on both of these\n",
    "df_new_probabilitys = {key: df_new_balance[key]/sum(df_new_balance.values()) for key in df_new_balance.keys()}"
   ]
  },
  {
   "cell_type": "code",
   "execution_count": 43,
   "id": "ea2857d7",
   "metadata": {},
   "outputs": [
    {
     "data": {
      "text/plain": [
       "{'P5': 0.02640125720272394,\n",
       " 'P3': 0.41906757464641176,\n",
       " 'P2': 0.3182818229439497,\n",
       " 'P1': 0.11702462022001048,\n",
       " 'P4': 0.11922472498690413}"
      ]
     },
     "execution_count": 43,
     "metadata": {},
     "output_type": "execute_result"
    }
   ],
   "source": [
    "df_new_probabilitys"
   ]
  },
  {
   "cell_type": "markdown",
   "id": "29c3a8ba",
   "metadata": {},
   "source": []
  },
  {
   "cell_type": "code",
   "execution_count": 44,
   "id": "66fc8083",
   "metadata": {},
   "outputs": [],
   "source": [
    "# this then calculates the divergence and writes it to screen"
   ]
  },
  {
   "cell_type": "code",
   "execution_count": 45,
   "id": "14536f5d",
   "metadata": {},
   "outputs": [
    {
     "name": "stdout",
     "output_type": "stream",
     "text": [
      "kl divergence between df new and balanced is 0.0\n"
     ]
    }
   ],
   "source": [
    "print(f\"kl divergence between df new and balanced is {kl_divergence([balanced_probabilitys[k] for k in names], [df_new_probabilitys[k] for k in names])}\")"
   ]
  },
  {
   "cell_type": "markdown",
   "id": "6431163f",
   "metadata": {},
   "source": [
    "both balanced and df new are pretty much the same as the kl divergence is 0, and that indicates its the same distribution\n",
    "\n",
    "however with y train and df it indicates there is some difference, but the difference is fairly minimal indicate it is different dataset, however they are fairly similar to each other."
   ]
  },
  {
   "cell_type": "code",
   "execution_count": null,
   "id": "5ef91e3d",
   "metadata": {},
   "outputs": [],
   "source": []
  },
  {
   "cell_type": "code",
   "execution_count": null,
   "id": "1d2fe222",
   "metadata": {},
   "outputs": [],
   "source": []
  }
 ],
 "metadata": {
  "kernelspec": {
   "display_name": "Python 3",
   "language": "python",
   "name": "python3"
  },
  "language_info": {
   "codemirror_mode": {
    "name": "ipython",
    "version": 3
   },
   "file_extension": ".py",
   "mimetype": "text/x-python",
   "name": "python",
   "nbconvert_exporter": "python",
   "pygments_lexer": "ipython3",
   "version": "3.8.10"
  }
 },
 "nbformat": 4,
 "nbformat_minor": 5
}
