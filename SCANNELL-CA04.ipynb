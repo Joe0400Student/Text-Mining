{
 "cells": [
  {
   "cell_type": "markdown",
   "id": "39bfc1be-0dd7-4580-b9c7-ea5eb6c305fc",
   "metadata": {},
   "source": [
    "## TLDR I really like comprehensions, maps, and functional style programming, It may look weird at first until i explain it, then it makes a ton of sense"
   ]
  },
  {
   "cell_type": "code",
   "execution_count": 4,
   "id": "2e2ec85a-ead5-46f1-8806-6827666a69be",
   "metadata": {},
   "outputs": [],
   "source": [
    "import pandas as pd\n",
    "from sklearn.datasets import load_iris\n",
    "data = load_iris()\n",
    "temp = {}\n",
    "temp['data'] = data['data'].tolist()\n",
    "temp['target'] = data['target'].tolist()\n",
    "df = pd.DataFrame(temp)"
   ]
  },
  {
   "cell_type": "code",
   "execution_count": 5,
   "id": "916817d9-d9b5-48a8-bec9-85e2aab3fdc5",
   "metadata": {},
   "outputs": [
    {
     "data": {
      "text/html": [
       "<div>\n",
       "<style scoped>\n",
       "    .dataframe tbody tr th:only-of-type {\n",
       "        vertical-align: middle;\n",
       "    }\n",
       "\n",
       "    .dataframe tbody tr th {\n",
       "        vertical-align: top;\n",
       "    }\n",
       "\n",
       "    .dataframe thead th {\n",
       "        text-align: right;\n",
       "    }\n",
       "</style>\n",
       "<table border=\"1\" class=\"dataframe\">\n",
       "  <thead>\n",
       "    <tr style=\"text-align: right;\">\n",
       "      <th></th>\n",
       "      <th>data</th>\n",
       "      <th>target</th>\n",
       "    </tr>\n",
       "  </thead>\n",
       "  <tbody>\n",
       "    <tr>\n",
       "      <th>0</th>\n",
       "      <td>[5.1, 3.5, 1.4, 0.2]</td>\n",
       "      <td>0</td>\n",
       "    </tr>\n",
       "    <tr>\n",
       "      <th>1</th>\n",
       "      <td>[4.9, 3.0, 1.4, 0.2]</td>\n",
       "      <td>0</td>\n",
       "    </tr>\n",
       "    <tr>\n",
       "      <th>2</th>\n",
       "      <td>[4.7, 3.2, 1.3, 0.2]</td>\n",
       "      <td>0</td>\n",
       "    </tr>\n",
       "    <tr>\n",
       "      <th>3</th>\n",
       "      <td>[4.6, 3.1, 1.5, 0.2]</td>\n",
       "      <td>0</td>\n",
       "    </tr>\n",
       "    <tr>\n",
       "      <th>4</th>\n",
       "      <td>[5.0, 3.6, 1.4, 0.2]</td>\n",
       "      <td>0</td>\n",
       "    </tr>\n",
       "    <tr>\n",
       "      <th>...</th>\n",
       "      <td>...</td>\n",
       "      <td>...</td>\n",
       "    </tr>\n",
       "    <tr>\n",
       "      <th>145</th>\n",
       "      <td>[6.7, 3.0, 5.2, 2.3]</td>\n",
       "      <td>2</td>\n",
       "    </tr>\n",
       "    <tr>\n",
       "      <th>146</th>\n",
       "      <td>[6.3, 2.5, 5.0, 1.9]</td>\n",
       "      <td>2</td>\n",
       "    </tr>\n",
       "    <tr>\n",
       "      <th>147</th>\n",
       "      <td>[6.5, 3.0, 5.2, 2.0]</td>\n",
       "      <td>2</td>\n",
       "    </tr>\n",
       "    <tr>\n",
       "      <th>148</th>\n",
       "      <td>[6.2, 3.4, 5.4, 2.3]</td>\n",
       "      <td>2</td>\n",
       "    </tr>\n",
       "    <tr>\n",
       "      <th>149</th>\n",
       "      <td>[5.9, 3.0, 5.1, 1.8]</td>\n",
       "      <td>2</td>\n",
       "    </tr>\n",
       "  </tbody>\n",
       "</table>\n",
       "<p>150 rows × 2 columns</p>\n",
       "</div>"
      ],
      "text/plain": [
       "                     data  target\n",
       "0    [5.1, 3.5, 1.4, 0.2]       0\n",
       "1    [4.9, 3.0, 1.4, 0.2]       0\n",
       "2    [4.7, 3.2, 1.3, 0.2]       0\n",
       "3    [4.6, 3.1, 1.5, 0.2]       0\n",
       "4    [5.0, 3.6, 1.4, 0.2]       0\n",
       "..                    ...     ...\n",
       "145  [6.7, 3.0, 5.2, 2.3]       2\n",
       "146  [6.3, 2.5, 5.0, 1.9]       2\n",
       "147  [6.5, 3.0, 5.2, 2.0]       2\n",
       "148  [6.2, 3.4, 5.4, 2.3]       2\n",
       "149  [5.9, 3.0, 5.1, 1.8]       2\n",
       "\n",
       "[150 rows x 2 columns]"
      ]
     },
     "execution_count": 5,
     "metadata": {},
     "output_type": "execute_result"
    }
   ],
   "source": [
    "df"
   ]
  },
  {
   "cell_type": "code",
   "execution_count": null,
   "id": "e9275f29-fc33-4ac6-a94f-c1064bf9a93f",
   "metadata": {},
   "outputs": [],
   "source": []
  },
  {
   "cell_type": "code",
   "execution_count": 6,
   "id": "7fbfbb0c-994c-4a96-bee5-8dab83095524",
   "metadata": {},
   "outputs": [],
   "source": [
    "stratified_data = {\n",
    "    target:[\n",
    "        vector \n",
    "        for vector, targ in zip(\n",
    "            data['data'].tolist(),\n",
    "            data['target'].tolist()) \n",
    "        if targ == target] \n",
    "    for target in list(set(data['target'].tolist()))\n",
    "}"
   ]
  },
  {
   "cell_type": "code",
   "execution_count": 7,
   "id": "519c7605-3d36-496b-a295-6bbc9ebcabb3",
   "metadata": {},
   "outputs": [],
   "source": [
    "from statistics import stdev, mean\n",
    "from math import pi, exp, sqrt\n",
    "# yes this _does_ exist, and i dont want to implement std dev on my own."
   ]
  },
  {
   "cell_type": "code",
   "execution_count": 8,
   "id": "7a3c8a64-a312-4e2a-ac6f-0a04da24fe7d",
   "metadata": {},
   "outputs": [],
   "source": [
    "def generate_probs(stratified_dict: dict) -> dict:\n",
    "    def reshape_list(vector_list: list) -> list:\n",
    "        return [[vec[i] for vec in vector_list] for i in range(len(vector_list[0]))]\n",
    "    \"\"\"\n",
    "        alright this requires some explanation\n",
    "        it creates a dict in such that it contains lambda functions, which serve as\n",
    "        precompiled compute functions for the whole program\n",
    "        thus you can select the class you are testing it against for classification\n",
    "        then can use a functools reduce function on a map function to compute the classification comparison\n",
    "        \n",
    "        to do this though it requres the dict of list of vectors to be reshaped such that its column major\n",
    "        rather than row major.\n",
    "    \"\"\"\n",
    "    return {\n",
    "        classification: [\n",
    "            (lambda test: 1 / (sqrt(2 * pi * stdev(vals) ** 2)) * \n",
    "                          exp( \n",
    "                              -(test - mean(vals)) ** 2 / \n",
    "                              (2 * stdev(vals) ** 2)\n",
    "                          ))\n",
    "            for vals in reshape_list(stratified_dict[classification])] \n",
    "        for classification in stratified_dict.keys()\n",
    "    }\n",
    "        "
   ]
  },
  {
   "cell_type": "code",
   "execution_count": null,
   "id": "362981a2-a2bc-4531-a8a2-ca7a7d5d48a9",
   "metadata": {},
   "outputs": [],
   "source": []
  },
  {
   "cell_type": "code",
   "execution_count": null,
   "id": "e05b9aaa-abdb-4f13-a30b-bee826f6968e",
   "metadata": {},
   "outputs": [],
   "source": []
  },
  {
   "cell_type": "code",
   "execution_count": 9,
   "id": "ff42c244-b6b2-4d97-9517-c2dad0b903fa",
   "metadata": {},
   "outputs": [],
   "source": [
    "\"\"\" now we have this function working we can create a function that compiles those lambdas\n",
    "into a larger lambda that makes test functions for the classification\"\"\"\n",
    "\"\"\" it does this via iteration of the vector tests and compute the product of the result\"\"\"\n",
    "\n",
    "from math import prod\n",
    "def compile_probs(probs: dict) -> dict:\n",
    "    return {classification: (lambda test: \n",
    "                prod(map(lambda a: a[0](a[1]) , zip(probs[classification],test))))\n",
    "            for classification in probs.keys()}\n",
    "            "
   ]
  },
  {
   "cell_type": "code",
   "execution_count": 10,
   "id": "24f8e75b-3df3-470b-82cb-77f3dea38b8b",
   "metadata": {},
   "outputs": [],
   "source": [
    "from functools import reduce\n",
    "\"\"\"this then takes those classification probability functions and \n",
    "returns a function that calculates the classification with the highest proabbility\n",
    "\"\"\"\n",
    "def bayes_compiler(X: list, Y: list):\n",
    "    return (lambda test: reduce(\n",
    "                lambda left, right: left if (left[1] > right[1]) else right,\n",
    "                map(lambda classifier: (classifier, \n",
    "                    compile_probs(\n",
    "                        generate_probs({\n",
    "                            y: [x for x, y_test in zip(X,Y) if y_test == y]\n",
    "                            for y in Y\n",
    "                        })\n",
    "                    )[classifier](test)), Y))[0])\n",
    "                "
   ]
  },
  {
   "cell_type": "code",
   "execution_count": 11,
   "id": "ca1c5940-9dc9-42e1-b0cd-d253963699c6",
   "metadata": {},
   "outputs": [],
   "source": [
    "model = bayes_compiler(data['data'].tolist(), data['target'].tolist())"
   ]
  },
  {
   "cell_type": "code",
   "execution_count": 12,
   "id": "a711ba39-5de6-4d79-bf98-e54ce84979f2",
   "metadata": {},
   "outputs": [
    {
     "data": {
      "text/plain": [
       "2"
      ]
     },
     "execution_count": 12,
     "metadata": {},
     "output_type": "execute_result"
    }
   ],
   "source": [
    "model([5.0,3.1,2.4,1.6])"
   ]
  },
  {
   "cell_type": "code",
   "execution_count": 13,
   "id": "8a4a695d-944f-4d9b-8fa4-11c2fcec5f80",
   "metadata": {},
   "outputs": [
    {
     "name": "stdout",
     "output_type": "stream",
     "text": [
      "[5.0, 3.1, 2.4, 1.6] = class 2\n",
      "[5.0, 3.1, 2.1, 0.6] = class 2\n",
      "[6.0, 3.1, 5.5, 2.0] = class 2\n"
     ]
    }
   ],
   "source": [
    "print(*map(lambda a: f\"{a} = class {model(a)}\", [[5.0,3.1,2.4,1.6], [5.0, 3.1, 2.1, 0.6],[6.0, 3.1, 5.5, 2.0]]),sep=\"\\n\")"
   ]
  },
  {
   "cell_type": "code",
   "execution_count": null,
   "id": "bc5d41f8-8ad0-45a1-a082-9e9e6bf76784",
   "metadata": {},
   "outputs": [],
   "source": []
  }
 ],
 "metadata": {
  "kernelspec": {
   "display_name": "Python 3",
   "language": "python",
   "name": "python3"
  },
  "language_info": {
   "codemirror_mode": {
    "name": "ipython",
    "version": 3
   },
   "file_extension": ".py",
   "mimetype": "text/x-python",
   "name": "python",
   "nbconvert_exporter": "python",
   "pygments_lexer": "ipython3",
   "version": "3.8.10"
  }
 },
 "nbformat": 4,
 "nbformat_minor": 5
}
