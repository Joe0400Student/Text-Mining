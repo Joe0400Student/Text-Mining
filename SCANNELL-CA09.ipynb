{
 "cells": [
  {
   "cell_type": "code",
   "execution_count": 1,
   "id": "6aa36dec",
   "metadata": {},
   "outputs": [],
   "source": [
    "\n",
    "f = open(\"/home/joe0400/Downloads/JDT_Bugs_sm.csv\")\n",
    "\n",
    "# clean function\n",
    "import html\n",
    "import re\n",
    "def clean(text):\n",
    "    # convert html escapes like &amp; to characters.\n",
    "    text = html.unescape(text) \n",
    "    # tags like <tab>\n",
    "    text = re.sub(r'<[^<>]*>', ' ', text)\n",
    "    # markdown URLs like [Some text](https://....)\n",
    "    text = re.sub(r'\\[([^\\[\\]]*)\\]\\([^\\(\\)]*\\)', r'\\1', text)\n",
    "    # text or code in brackets like [0]\n",
    "    text = re.sub(r'\\[[^\\[\\]]*\\]', ' ', text)\n",
    "    # standalone sequences of specials, matches &# but not #cool\n",
    "    text = re.sub(r'(?:^|\\s)[&#<>{}\\[\\]+|\\\\:-]{1,}(?:\\s|$)', ' ', text)\n",
    "    # standalone sequences of hyphens like --- or ==\n",
    "    text = re.sub(r'(?:^|\\s)[\\-=\\+]{2,}(?:\\s|$)', ' ', text)\n",
    "    # sequences of white spaces\n",
    "    text = re.sub(r'\\s+', ' ', text)\n",
    "    return text.strip()\n",
    "\n",
    "#textaciy normalization funciton\n",
    "import textacy\n",
    "import textacy.preprocessing as tprep\n",
    "from sklearn.preprocessing import normalize as normalize_vector\n",
    "\n",
    "\n",
    "if textacy.__version__ < '0.11':\n",
    "    def normalize(text):\n",
    "        text = tprep.normalize_hyphenated_words(text)\n",
    "        text = tprep.normalize_quotation_marks(text)\n",
    "        text = tprep.normalize_unicode(text)\n",
    "        text = tprep.remove_accents(text)\n",
    "        return text\n",
    "else:\n",
    "    # adjusted to textacy 0.11. Note, function names are changed\n",
    "    def normalize(text):\n",
    "        text = tprep.normalize.hyphenated_words(text)\n",
    "        text = tprep.normalize.quotation_marks(text)\n",
    "        text = tprep.normalize.unicode(text)\n",
    "        text = tprep.remove.accents(text)\n",
    "        return text\n",
    "\n",
    "#spacy lemmatization using the snippet\n",
    "import spacy\n",
    "from nltk.corpus import wordnet\n",
    "#wanted word function\n",
    "def wanted_word(token):\n",
    "    return wordnet.synsets(str(token))\n",
    "nlp = spacy.load(\"en_core_web_sm\", disable=[\"tok2vec\", \"tagger\", \"parser\", \"attribute_ruler\",\"ner\"])\n",
    "#modified so that it returms the doc and lemmas for the dataframe\n",
    "def process_using_spacy(text):\n",
    "    doc = nlp(text) \n",
    "    lemmas = \" \".join(token.lemma_ for token in doc if wanted_word(str(token)))\n",
    "    return ' '.join([str(d) for d in doc]), lemmas\n",
    "\n",
    "from sklearn.feature_extraction.text import TfidfVectorizer\n",
    "\n"
   ]
  },
  {
   "cell_type": "code",
   "execution_count": 2,
   "id": "8c767dac",
   "metadata": {},
   "outputs": [
    {
     "name": "stderr",
     "output_type": "stream",
     "text": [
      "/home/joe0400/.local/lib/python3.8/site-packages/spacy/pipeline/lemmatizer.py:211: UserWarning: [W108] The rule-based lemmatizer did not find POS annotation for one or more tokens. Check that your pipeline includes components that assign token.pos, typically 'tagger'+'attribute_ruler' or 'morphologizer'.\n",
      "  warnings.warn(Warnings.W108)\n"
     ]
    }
   ],
   "source": [
    "import csv\n",
    "# this is the csv getting loaded\n",
    "table = [[process_using_spacy(normalize(clean(col)))[0 if i != 2 or j == 0 else 1] for i, col in enumerate(row) ] for j, row in enumerate(csv.reader(f))]"
   ]
  },
  {
   "cell_type": "code",
   "execution_count": 3,
   "id": "6c7ebe0a",
   "metadata": {},
   "outputs": [],
   "source": [
    "#grabbing the rows and vals for reformatting the table\n",
    "table_rows = table[0]\n",
    "table_vals = table[1:]\n",
    "\n",
    "vectorizer = TfidfVectorizer()\n",
    "\n",
    "X = vectorizer.fit_transform([v[2] for v in table_vals])\n",
    "classes = {'APT', 'Core', 'Debug', 'Doc', 'Text', 'UI'}"
   ]
  },
  {
   "cell_type": "code",
   "execution_count": 4,
   "id": "c3d26243",
   "metadata": {},
   "outputs": [],
   "source": [
    "# the reason for tfidfs normalization is that it makes it \n",
    "# it into cosine similarity for scikit learns implementation\n",
    "tfidifs = normalize_vector(X.toarray())"
   ]
  },
  {
   "cell_type": "code",
   "execution_count": 5,
   "id": "409ea57a",
   "metadata": {},
   "outputs": [],
   "source": [
    "import pandas\n",
    "#making the table for pands to load\n",
    "table_generated = {col:[] for col in table_rows}\n",
    "table_generated['tf-idf'] = []\n",
    "table_generated['id'] = []\n",
    "for each in tfidifs:\n",
    "    table_generated['tf-idf'].append(each)\n",
    "\n",
    "for row in table_vals:\n",
    "    for i in range(len(row)):\n",
    "        table_generated[table_rows[i]].append(row[i])\n",
    "    for j, each in enumerate(classes):\n",
    "        if(each == row[1]):\n",
    "            table_generated['id'].append(j)\n"
   ]
  },
  {
   "cell_type": "code",
   "execution_count": 6,
   "id": "e8679e0f",
   "metadata": {},
   "outputs": [],
   "source": [
    "dataframe = pandas.DataFrame(table_generated)\n",
    "#pandas loading the table"
   ]
  },
  {
   "cell_type": "code",
   "execution_count": 7,
   "id": "df519b81",
   "metadata": {},
   "outputs": [
    {
     "data": {
      "text/html": [
       "<div>\n",
       "<style scoped>\n",
       "    .dataframe tbody tr th:only-of-type {\n",
       "        vertical-align: middle;\n",
       "    }\n",
       "\n",
       "    .dataframe tbody tr th {\n",
       "        vertical-align: top;\n",
       "    }\n",
       "\n",
       "    .dataframe thead th {\n",
       "        text-align: right;\n",
       "    }\n",
       "</style>\n",
       "<table border=\"1\" class=\"dataframe\">\n",
       "  <thead>\n",
       "    <tr style=\"text-align: right;\">\n",
       "      <th></th>\n",
       "      <th></th>\n",
       "      <th>Component</th>\n",
       "      <th>bug report</th>\n",
       "      <th>tf-idf</th>\n",
       "      <th>id</th>\n",
       "    </tr>\n",
       "  </thead>\n",
       "  <tbody>\n",
       "    <tr>\n",
       "      <th>0</th>\n",
       "      <td>0</td>\n",
       "      <td>APT</td>\n",
       "      <td>exception thrown reconcile got following excep...</td>\n",
       "      <td>[0.0, 0.0, 0.0, 0.0, 0.0, 0.0, 0.0, 0.0, 0.0, ...</td>\n",
       "      <td>1</td>\n",
       "    </tr>\n",
       "    <tr>\n",
       "      <th>1</th>\n",
       "      <td>1</td>\n",
       "      <td>APT</td>\n",
       "      <td>bug getting error trying install installing ne...</td>\n",
       "      <td>[0.0, 0.0, 0.0, 0.0, 0.0, 0.0, 0.0, 0.0, 0.0, ...</td>\n",
       "      <td>1</td>\n",
       "    </tr>\n",
       "    <tr>\n",
       "      <th>2</th>\n",
       "      <td>2</td>\n",
       "      <td>APT</td>\n",
       "      <td>unable load factory names container i have an ...</td>\n",
       "      <td>[0.0, 0.0, 0.0, 0.0, 0.0, 0.0, 0.0, 0.0, 0.0, ...</td>\n",
       "      <td>1</td>\n",
       "    </tr>\n",
       "    <tr>\n",
       "      <th>3</th>\n",
       "      <td>3</td>\n",
       "      <td>APT</td>\n",
       "      <td>headless build fails integrated external tool ...</td>\n",
       "      <td>[0.0, 0.0, 0.0, 0.0, 0.0, 0.0, 0.0, 0.0, 0.0, ...</td>\n",
       "      <td>1</td>\n",
       "    </tr>\n",
       "    <tr>\n",
       "      <th>4</th>\n",
       "      <td>4</td>\n",
       "      <td>APT</td>\n",
       "      <td>error type detection is too conservative compi...</td>\n",
       "      <td>[0.0, 0.0, 0.0, 0.0, 0.0, 0.0, 0.0, 0.0, 0.0, ...</td>\n",
       "      <td>1</td>\n",
       "    </tr>\n",
       "    <tr>\n",
       "      <th>...</th>\n",
       "      <td>...</td>\n",
       "      <td>...</td>\n",
       "      <td>...</td>\n",
       "      <td>...</td>\n",
       "      <td>...</td>\n",
       "    </tr>\n",
       "    <tr>\n",
       "      <th>2638</th>\n",
       "      <td>2638</td>\n",
       "      <td>UI</td>\n",
       "      <td>trying externalize strings i got following i t...</td>\n",
       "      <td>[0.0, 0.0, 0.0, 0.0, 0.0, 0.0, 0.0, 0.0, 0.0, ...</td>\n",
       "      <td>0</td>\n",
       "    </tr>\n",
       "    <tr>\n",
       "      <th>2639</th>\n",
       "      <td>2639</td>\n",
       "      <td>UI</td>\n",
       "      <td>java search package has no plug in export see ...</td>\n",
       "      <td>[0.0, 0.0, 0.0, 0.0, 0.0, 0.0, 0.0, 0.0, 0.0, ...</td>\n",
       "      <td>0</td>\n",
       "    </tr>\n",
       "    <tr>\n",
       "      <th>2640</th>\n",
       "      <td>2640</td>\n",
       "      <td>UI</td>\n",
       "      <td>rename inner type does not update constructor ...</td>\n",
       "      <td>[0.0, 0.0, 0.0, 0.0, 0.0, 0.0, 0.0, 0.0, 0.0, ...</td>\n",
       "      <td>0</td>\n",
       "    </tr>\n",
       "    <tr>\n",
       "      <th>2641</th>\n",
       "      <td>2641</td>\n",
       "      <td>UI</td>\n",
       "      <td>disable operation logical packages in i m not ...</td>\n",
       "      <td>[0.0, 0.0, 0.0, 0.0, 0.0, 0.0, 0.0, 0.0, 0.0, ...</td>\n",
       "      <td>0</td>\n",
       "    </tr>\n",
       "    <tr>\n",
       "      <th>2642</th>\n",
       "      <td>2642</td>\n",
       "      <td>UI</td>\n",
       "      <td>eclipse ca nt show fully code editor created a...</td>\n",
       "      <td>[0.0, 0.0, 0.0, 0.0, 0.0, 0.0, 0.0, 0.0, 0.0, ...</td>\n",
       "      <td>0</td>\n",
       "    </tr>\n",
       "  </tbody>\n",
       "</table>\n",
       "<p>2643 rows × 5 columns</p>\n",
       "</div>"
      ],
      "text/plain": [
       "           Component                                         bug report  \\\n",
       "0        0       APT  exception thrown reconcile got following excep...   \n",
       "1        1       APT  bug getting error trying install installing ne...   \n",
       "2        2       APT  unable load factory names container i have an ...   \n",
       "3        3       APT  headless build fails integrated external tool ...   \n",
       "4        4       APT  error type detection is too conservative compi...   \n",
       "...    ...       ...                                                ...   \n",
       "2638  2638        UI  trying externalize strings i got following i t...   \n",
       "2639  2639        UI  java search package has no plug in export see ...   \n",
       "2640  2640        UI  rename inner type does not update constructor ...   \n",
       "2641  2641        UI  disable operation logical packages in i m not ...   \n",
       "2642  2642        UI  eclipse ca nt show fully code editor created a...   \n",
       "\n",
       "                                                 tf-idf  id  \n",
       "0     [0.0, 0.0, 0.0, 0.0, 0.0, 0.0, 0.0, 0.0, 0.0, ...   1  \n",
       "1     [0.0, 0.0, 0.0, 0.0, 0.0, 0.0, 0.0, 0.0, 0.0, ...   1  \n",
       "2     [0.0, 0.0, 0.0, 0.0, 0.0, 0.0, 0.0, 0.0, 0.0, ...   1  \n",
       "3     [0.0, 0.0, 0.0, 0.0, 0.0, 0.0, 0.0, 0.0, 0.0, ...   1  \n",
       "4     [0.0, 0.0, 0.0, 0.0, 0.0, 0.0, 0.0, 0.0, 0.0, ...   1  \n",
       "...                                                 ...  ..  \n",
       "2638  [0.0, 0.0, 0.0, 0.0, 0.0, 0.0, 0.0, 0.0, 0.0, ...   0  \n",
       "2639  [0.0, 0.0, 0.0, 0.0, 0.0, 0.0, 0.0, 0.0, 0.0, ...   0  \n",
       "2640  [0.0, 0.0, 0.0, 0.0, 0.0, 0.0, 0.0, 0.0, 0.0, ...   0  \n",
       "2641  [0.0, 0.0, 0.0, 0.0, 0.0, 0.0, 0.0, 0.0, 0.0, ...   0  \n",
       "2642  [0.0, 0.0, 0.0, 0.0, 0.0, 0.0, 0.0, 0.0, 0.0, ...   0  \n",
       "\n",
       "[2643 rows x 5 columns]"
      ]
     },
     "execution_count": 7,
     "metadata": {},
     "output_type": "execute_result"
    }
   ],
   "source": [
    "dataframe"
   ]
  },
  {
   "cell_type": "code",
   "execution_count": 8,
   "id": "0a2c77e5",
   "metadata": {},
   "outputs": [],
   "source": [
    "classes = set(dataframe[\"Component\"])"
   ]
  },
  {
   "cell_type": "code",
   "execution_count": 9,
   "id": "c1b88e7d",
   "metadata": {},
   "outputs": [
    {
     "data": {
      "text/plain": [
       "{'APT', 'Core', 'Debug', 'Doc', 'Text', 'UI'}"
      ]
     },
     "execution_count": 9,
     "metadata": {},
     "output_type": "execute_result"
    }
   ],
   "source": [
    "classes"
   ]
  },
  {
   "cell_type": "code",
   "execution_count": 10,
   "id": "af6282e7",
   "metadata": {},
   "outputs": [],
   "source": [
    "random_class_selection = [dataframe[dataframe['id'] == classif].sample(1) for classif in set(dataframe['id'])]"
   ]
  },
  {
   "cell_type": "code",
   "execution_count": 11,
   "id": "df9cfd9b",
   "metadata": {},
   "outputs": [],
   "source": [
    "random_choices = [(sel['tf-idf'].values[0], sel['id'].values[0]) for sel in random_class_selection]"
   ]
  },
  {
   "cell_type": "code",
   "execution_count": 22,
   "id": "8333a571",
   "metadata": {},
   "outputs": [],
   "source": [
    "from sklearn.cluster import KMeans\n",
    "from sklearn.decomposition import LatentDirichletAllocation\n",
    "import numpy as np\n",
    "\n",
    "kmeans = LatentDirichletAllocation(n_components=6)\n",
    "tfs = np.asarray([each for each in dataframe['tf-idf']])\n",
    "clusters = kmeans.fit(tfs,[each for each in dataframe['id']]).transform(tfs)"
   ]
  },
  {
   "cell_type": "code",
   "execution_count": 17,
   "id": "a6856b75",
   "metadata": {},
   "outputs": [],
   "source": [
    "#predictions = kmeans.fit_transform([each for each in dataframe['tf-idf']])"
   ]
  },
  {
   "cell_type": "code",
   "execution_count": 18,
   "id": "0965c160",
   "metadata": {},
   "outputs": [],
   "source": [
    "#predictions"
   ]
  },
  {
   "cell_type": "code",
   "execution_count": 29,
   "id": "d87adec8",
   "metadata": {},
   "outputs": [
    {
     "data": {
      "text/plain": [
       "array([[0.35477576, 0.04152094, 0.0419971 , 0.04154068, 0.04282342,\n",
       "        0.4773421 ],\n",
       "       [0.02805372, 0.02818614, 0.02803746, 0.02803753, 0.0280375 ,\n",
       "        0.85964765],\n",
       "       [0.39515756, 0.0446442 , 0.04446901, 0.04469473, 0.04446932,\n",
       "        0.42656518],\n",
       "       ...,\n",
       "       [0.03528144, 0.03552077, 0.03525875, 0.03525881, 0.03525878,\n",
       "        0.82342144],\n",
       "       [0.0199437 , 0.01995976, 0.01993155, 0.01993194, 0.01993174,\n",
       "        0.90030131],\n",
       "       [0.03549876, 0.03600299, 0.03547979, 0.03547984, 0.03547982,\n",
       "        0.8220588 ]])"
      ]
     },
     "execution_count": 29,
     "metadata": {},
     "output_type": "execute_result"
    }
   ],
   "source": [
    "clusters"
   ]
  },
  {
   "cell_type": "code",
   "execution_count": 26,
   "id": "5f2b01d9",
   "metadata": {},
   "outputs": [],
   "source": [
    "confusion_matrix = {a:[0] * 6 for a in range(6)}"
   ]
  },
  {
   "cell_type": "code",
   "execution_count": 30,
   "id": "011462b6",
   "metadata": {},
   "outputs": [],
   "source": [
    "for a,b in zip(clusters,dataframe['id']):\n",
    "    confusion_matrix[b][a.argmax()] += 1\n"
   ]
  },
  {
   "cell_type": "code",
   "execution_count": 31,
   "id": "ef546307",
   "metadata": {},
   "outputs": [
    {
     "data": {
      "text/html": [
       "<div>\n",
       "<style scoped>\n",
       "    .dataframe tbody tr th:only-of-type {\n",
       "        vertical-align: middle;\n",
       "    }\n",
       "\n",
       "    .dataframe tbody tr th {\n",
       "        vertical-align: top;\n",
       "    }\n",
       "\n",
       "    .dataframe thead th {\n",
       "        text-align: right;\n",
       "    }\n",
       "</style>\n",
       "<table border=\"1\" class=\"dataframe\">\n",
       "  <thead>\n",
       "    <tr style=\"text-align: right;\">\n",
       "      <th></th>\n",
       "      <th>0</th>\n",
       "      <th>1</th>\n",
       "      <th>2</th>\n",
       "      <th>3</th>\n",
       "      <th>4</th>\n",
       "      <th>5</th>\n",
       "    </tr>\n",
       "  </thead>\n",
       "  <tbody>\n",
       "    <tr>\n",
       "      <th>0</th>\n",
       "      <td>79</td>\n",
       "      <td>21</td>\n",
       "      <td>59</td>\n",
       "      <td>9</td>\n",
       "      <td>3</td>\n",
       "      <td>25</td>\n",
       "    </tr>\n",
       "    <tr>\n",
       "      <th>1</th>\n",
       "      <td>24</td>\n",
       "      <td>17</td>\n",
       "      <td>3</td>\n",
       "      <td>5</td>\n",
       "      <td>38</td>\n",
       "      <td>13</td>\n",
       "    </tr>\n",
       "    <tr>\n",
       "      <th>2</th>\n",
       "      <td>1</td>\n",
       "      <td>0</td>\n",
       "      <td>1</td>\n",
       "      <td>0</td>\n",
       "      <td>0</td>\n",
       "      <td>0</td>\n",
       "    </tr>\n",
       "    <tr>\n",
       "      <th>3</th>\n",
       "      <td>0</td>\n",
       "      <td>3</td>\n",
       "      <td>0</td>\n",
       "      <td>0</td>\n",
       "      <td>1</td>\n",
       "      <td>0</td>\n",
       "    </tr>\n",
       "    <tr>\n",
       "      <th>4</th>\n",
       "      <td>2</td>\n",
       "      <td>1</td>\n",
       "      <td>1</td>\n",
       "      <td>0</td>\n",
       "      <td>0</td>\n",
       "      <td>0</td>\n",
       "    </tr>\n",
       "    <tr>\n",
       "      <th>5</th>\n",
       "      <td>767</td>\n",
       "      <td>362</td>\n",
       "      <td>590</td>\n",
       "      <td>106</td>\n",
       "      <td>146</td>\n",
       "      <td>366</td>\n",
       "    </tr>\n",
       "  </tbody>\n",
       "</table>\n",
       "</div>"
      ],
      "text/plain": [
       "     0    1    2    3    4    5\n",
       "0   79   21   59    9    3   25\n",
       "1   24   17    3    5   38   13\n",
       "2    1    0    1    0    0    0\n",
       "3    0    3    0    0    1    0\n",
       "4    2    1    1    0    0    0\n",
       "5  767  362  590  106  146  366"
      ]
     },
     "execution_count": 31,
     "metadata": {},
     "output_type": "execute_result"
    }
   ],
   "source": [
    "pandas.DataFrame(confusion_matrix).iloc[[0,1,2,3,4,5]] # to show the confusion matrix."
   ]
  },
  {
   "cell_type": "code",
   "execution_count": 32,
   "id": "fed0d764",
   "metadata": {},
   "outputs": [],
   "source": [
    "#  it seems kinda bad, as it tends to group in two columns\n",
    "# now onto making it work with SVD\n",
    "from sklearn.decomposition import TruncatedSVD\n",
    "\n",
    "\n",
    "kmeans = TruncatedSVD(n_components=6)\n",
    "tfs = np.asarray([each for each in dataframe['tf-idf']])\n",
    "clusters = kmeans.fit(tfs,[each for each in dataframe['id']]).transform(tfs)\n",
    "\n"
   ]
  },
  {
   "cell_type": "code",
   "execution_count": 33,
   "id": "3476aaf1",
   "metadata": {},
   "outputs": [],
   "source": [
    "confusion_matrix = {i:[0] * 6 for i in range(6)}"
   ]
  },
  {
   "cell_type": "code",
   "execution_count": 36,
   "id": "7562b7b4",
   "metadata": {},
   "outputs": [],
   "source": [
    "for a,b in zip(clusters,dataframe['id']):\n",
    "    confusion_matrix[b][a.argmax()] += 1\n"
   ]
  },
  {
   "cell_type": "code",
   "execution_count": 37,
   "id": "cc64740f",
   "metadata": {},
   "outputs": [
    {
     "data": {
      "text/html": [
       "<div>\n",
       "<style scoped>\n",
       "    .dataframe tbody tr th:only-of-type {\n",
       "        vertical-align: middle;\n",
       "    }\n",
       "\n",
       "    .dataframe tbody tr th {\n",
       "        vertical-align: top;\n",
       "    }\n",
       "\n",
       "    .dataframe thead th {\n",
       "        text-align: right;\n",
       "    }\n",
       "</style>\n",
       "<table border=\"1\" class=\"dataframe\">\n",
       "  <thead>\n",
       "    <tr style=\"text-align: right;\">\n",
       "      <th></th>\n",
       "      <th>0</th>\n",
       "      <th>1</th>\n",
       "      <th>2</th>\n",
       "      <th>3</th>\n",
       "      <th>4</th>\n",
       "      <th>5</th>\n",
       "    </tr>\n",
       "  </thead>\n",
       "  <tbody>\n",
       "    <tr>\n",
       "      <th>0</th>\n",
       "      <td>117</td>\n",
       "      <td>63</td>\n",
       "      <td>98</td>\n",
       "      <td>19</td>\n",
       "      <td>16</td>\n",
       "      <td>46</td>\n",
       "    </tr>\n",
       "    <tr>\n",
       "      <th>1</th>\n",
       "      <td>692</td>\n",
       "      <td>303</td>\n",
       "      <td>470</td>\n",
       "      <td>96</td>\n",
       "      <td>169</td>\n",
       "      <td>335</td>\n",
       "    </tr>\n",
       "    <tr>\n",
       "      <th>2</th>\n",
       "      <td>29</td>\n",
       "      <td>7</td>\n",
       "      <td>72</td>\n",
       "      <td>3</td>\n",
       "      <td>0</td>\n",
       "      <td>8</td>\n",
       "    </tr>\n",
       "    <tr>\n",
       "      <th>3</th>\n",
       "      <td>15</td>\n",
       "      <td>1</td>\n",
       "      <td>5</td>\n",
       "      <td>0</td>\n",
       "      <td>0</td>\n",
       "      <td>0</td>\n",
       "    </tr>\n",
       "    <tr>\n",
       "      <th>4</th>\n",
       "      <td>3</td>\n",
       "      <td>24</td>\n",
       "      <td>1</td>\n",
       "      <td>0</td>\n",
       "      <td>0</td>\n",
       "      <td>0</td>\n",
       "    </tr>\n",
       "    <tr>\n",
       "      <th>5</th>\n",
       "      <td>17</td>\n",
       "      <td>6</td>\n",
       "      <td>8</td>\n",
       "      <td>2</td>\n",
       "      <td>3</td>\n",
       "      <td>15</td>\n",
       "    </tr>\n",
       "  </tbody>\n",
       "</table>\n",
       "</div>"
      ],
      "text/plain": [
       "     0    1    2   3    4    5\n",
       "0  117   63   98  19   16   46\n",
       "1  692  303  470  96  169  335\n",
       "2   29    7   72   3    0    8\n",
       "3   15    1    5   0    0    0\n",
       "4    3   24    1   0    0    0\n",
       "5   17    6    8   2    3   15"
      ]
     },
     "execution_count": 37,
     "metadata": {},
     "output_type": "execute_result"
    }
   ],
   "source": [
    "pandas.DataFrame(confusion_matrix)"
   ]
  },
  {
   "cell_type": "code",
   "execution_count": null,
   "id": "d6ba9b91",
   "metadata": {},
   "outputs": [],
   "source": [
    "# SVD's arent great either\n",
    "# we can see that with how its all grouped at the top. "
   ]
  },
  {
   "cell_type": "code",
   "execution_count": null,
   "id": "ab02e355",
   "metadata": {},
   "outputs": [],
   "source": []
  }
 ],
 "metadata": {
  "kernelspec": {
   "display_name": "Python 3",
   "language": "python",
   "name": "python3"
  },
  "language_info": {
   "codemirror_mode": {
    "name": "ipython",
    "version": 3
   },
   "file_extension": ".py",
   "mimetype": "text/x-python",
   "name": "python",
   "nbconvert_exporter": "python",
   "pygments_lexer": "ipython3",
   "version": "3.8.10"
  }
 },
 "nbformat": 4,
 "nbformat_minor": 5
}
