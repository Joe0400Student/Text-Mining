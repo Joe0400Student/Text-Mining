{
 "cells": [
  {
   "cell_type": "code",
   "execution_count": 1,
   "id": "6aa36dec",
   "metadata": {},
   "outputs": [],
   "source": [
    "\n",
    "f = open(\"/home/joe0400/Downloads/JDT_Bugs_sm.csv\")\n",
    "\n",
    "# clean function\n",
    "import html\n",
    "import re\n",
    "def clean(text):\n",
    "    # convert html escapes like &amp; to characters.\n",
    "    text = html.unescape(text) \n",
    "    # tags like <tab>\n",
    "    text = re.sub(r'<[^<>]*>', ' ', text)\n",
    "    # markdown URLs like [Some text](https://....)\n",
    "    text = re.sub(r'\\[([^\\[\\]]*)\\]\\([^\\(\\)]*\\)', r'\\1', text)\n",
    "    # text or code in brackets like [0]\n",
    "    text = re.sub(r'\\[[^\\[\\]]*\\]', ' ', text)\n",
    "    # standalone sequences of specials, matches &# but not #cool\n",
    "    text = re.sub(r'(?:^|\\s)[&#<>{}\\[\\]+|\\\\:-]{1,}(?:\\s|$)', ' ', text)\n",
    "    # standalone sequences of hyphens like --- or ==\n",
    "    text = re.sub(r'(?:^|\\s)[\\-=\\+]{2,}(?:\\s|$)', ' ', text)\n",
    "    # sequences of white spaces\n",
    "    text = re.sub(r'\\s+', ' ', text)\n",
    "    return text.strip()\n",
    "\n",
    "#textaciy normalization funciton\n",
    "import textacy\n",
    "import textacy.preprocessing as tprep\n",
    "from sklearn.preprocessing import normalize as normalize_vector\n",
    "\n",
    "\n",
    "if textacy.__version__ < '0.11':\n",
    "    def normalize(text):\n",
    "        text = tprep.normalize_hyphenated_words(text)\n",
    "        text = tprep.normalize_quotation_marks(text)\n",
    "        text = tprep.normalize_unicode(text)\n",
    "        text = tprep.remove_accents(text)\n",
    "        return text\n",
    "else:\n",
    "    # adjusted to textacy 0.11. Note, function names are changed\n",
    "    def normalize(text):\n",
    "        text = tprep.normalize.hyphenated_words(text)\n",
    "        text = tprep.normalize.quotation_marks(text)\n",
    "        text = tprep.normalize.unicode(text)\n",
    "        text = tprep.remove.accents(text)\n",
    "        return text\n",
    "\n",
    "#spacy lemmatization using the snippet\n",
    "import spacy\n",
    "from nltk.corpus import wordnet\n",
    "#wanted word function\n",
    "def wanted_word(token):\n",
    "    return wordnet.synsets(str(token))\n",
    "nlp = spacy.load(\"en_core_web_sm\", disable=[\"tok2vec\", \"tagger\", \"parser\", \"attribute_ruler\",\"ner\"])\n",
    "#modified so that it returms the doc and lemmas for the dataframe\n",
    "def process_using_spacy(text):\n",
    "    doc = nlp(text) \n",
    "    lemmas = \" \".join(token.lemma_ for token in doc if wanted_word(str(token)))\n",
    "    return ' '.join([str(d) for d in doc]), lemmas\n",
    "\n",
    "from sklearn.feature_extraction.text import TfidfVectorizer\n",
    "\n"
   ]
  },
  {
   "cell_type": "code",
   "execution_count": 2,
   "id": "8c767dac",
   "metadata": {},
   "outputs": [
    {
     "name": "stderr",
     "output_type": "stream",
     "text": [
      "/home/joe0400/.local/lib/python3.8/site-packages/spacy/pipeline/lemmatizer.py:211: UserWarning: [W108] The rule-based lemmatizer did not find POS annotation for one or more tokens. Check that your pipeline includes components that assign token.pos, typically 'tagger'+'attribute_ruler' or 'morphologizer'.\n",
      "  warnings.warn(Warnings.W108)\n"
     ]
    }
   ],
   "source": [
    "import csv\n",
    "# this is the csv getting loaded\n",
    "table = [[process_using_spacy(normalize(clean(col)))[0 if i != 2 or j == 0 else 1] for i, col in enumerate(row) ] for j, row in enumerate(csv.reader(f))]"
   ]
  },
  {
   "cell_type": "code",
   "execution_count": 3,
   "id": "6c7ebe0a",
   "metadata": {},
   "outputs": [],
   "source": [
    "#grabbing the rows and vals for reformatting the table\n",
    "table_rows = table[0]\n",
    "table_vals = table[1:]\n",
    "\n",
    "vectorizer = TfidfVectorizer()\n",
    "\n",
    "X = vectorizer.fit_transform([v[2] for v in table_vals])\n",
    "classes = {'APT', 'Core', 'Debug', 'Doc', 'Text', 'UI'}"
   ]
  },
  {
   "cell_type": "code",
   "execution_count": 4,
   "id": "c3d26243",
   "metadata": {},
   "outputs": [],
   "source": [
    "# the reason for tfidfs normalization is that it makes it \n",
    "# it into cosine similarity for scikit learns implementation\n",
    "tfidifs = normalize_vector(X.toarray())"
   ]
  },
  {
   "cell_type": "code",
   "execution_count": 5,
   "id": "409ea57a",
   "metadata": {},
   "outputs": [],
   "source": [
    "import pandas\n",
    "#making the table for pands to load\n",
    "table_generated = {col:[] for col in table_rows}\n",
    "table_generated['tf-idf'] = []\n",
    "table_generated['id'] = []\n",
    "for each in tfidifs:\n",
    "    table_generated['tf-idf'].append(each)\n",
    "\n",
    "for row in table_vals:\n",
    "    for i in range(len(row)):\n",
    "        table_generated[table_rows[i]].append(row[i])\n",
    "    for j, each in enumerate(classes):\n",
    "        if(each == row[1]):\n",
    "            table_generated['id'].append(j)\n"
   ]
  },
  {
   "cell_type": "code",
   "execution_count": 6,
   "id": "e8679e0f",
   "metadata": {},
   "outputs": [],
   "source": [
    "dataframe = pandas.DataFrame(table_generated)\n",
    "#pandas loading the table"
   ]
  },
  {
   "cell_type": "code",
   "execution_count": 7,
   "id": "df519b81",
   "metadata": {},
   "outputs": [
    {
     "data": {
      "text/html": [
       "<div>\n",
       "<style scoped>\n",
       "    .dataframe tbody tr th:only-of-type {\n",
       "        vertical-align: middle;\n",
       "    }\n",
       "\n",
       "    .dataframe tbody tr th {\n",
       "        vertical-align: top;\n",
       "    }\n",
       "\n",
       "    .dataframe thead th {\n",
       "        text-align: right;\n",
       "    }\n",
       "</style>\n",
       "<table border=\"1\" class=\"dataframe\">\n",
       "  <thead>\n",
       "    <tr style=\"text-align: right;\">\n",
       "      <th></th>\n",
       "      <th></th>\n",
       "      <th>Component</th>\n",
       "      <th>bug report</th>\n",
       "      <th>tf-idf</th>\n",
       "      <th>id</th>\n",
       "    </tr>\n",
       "  </thead>\n",
       "  <tbody>\n",
       "    <tr>\n",
       "      <th>0</th>\n",
       "      <td>0</td>\n",
       "      <td>APT</td>\n",
       "      <td>exception thrown reconcile got following excep...</td>\n",
       "      <td>[0.0, 0.0, 0.0, 0.0, 0.0, 0.0, 0.0, 0.0, 0.0, ...</td>\n",
       "      <td>0</td>\n",
       "    </tr>\n",
       "    <tr>\n",
       "      <th>1</th>\n",
       "      <td>1</td>\n",
       "      <td>APT</td>\n",
       "      <td>bug getting error trying install installing ne...</td>\n",
       "      <td>[0.0, 0.0, 0.0, 0.0, 0.0, 0.0, 0.0, 0.0, 0.0, ...</td>\n",
       "      <td>0</td>\n",
       "    </tr>\n",
       "    <tr>\n",
       "      <th>2</th>\n",
       "      <td>2</td>\n",
       "      <td>APT</td>\n",
       "      <td>unable load factory names container i have an ...</td>\n",
       "      <td>[0.0, 0.0, 0.0, 0.0, 0.0, 0.0, 0.0, 0.0, 0.0, ...</td>\n",
       "      <td>0</td>\n",
       "    </tr>\n",
       "    <tr>\n",
       "      <th>3</th>\n",
       "      <td>3</td>\n",
       "      <td>APT</td>\n",
       "      <td>headless build fails integrated external tool ...</td>\n",
       "      <td>[0.0, 0.0, 0.0, 0.0, 0.0, 0.0, 0.0, 0.0, 0.0, ...</td>\n",
       "      <td>0</td>\n",
       "    </tr>\n",
       "    <tr>\n",
       "      <th>4</th>\n",
       "      <td>4</td>\n",
       "      <td>APT</td>\n",
       "      <td>error type detection is too conservative compi...</td>\n",
       "      <td>[0.0, 0.0, 0.0, 0.0, 0.0, 0.0, 0.0, 0.0, 0.0, ...</td>\n",
       "      <td>0</td>\n",
       "    </tr>\n",
       "    <tr>\n",
       "      <th>...</th>\n",
       "      <td>...</td>\n",
       "      <td>...</td>\n",
       "      <td>...</td>\n",
       "      <td>...</td>\n",
       "      <td>...</td>\n",
       "    </tr>\n",
       "    <tr>\n",
       "      <th>2638</th>\n",
       "      <td>2638</td>\n",
       "      <td>UI</td>\n",
       "      <td>trying externalize strings i got following i t...</td>\n",
       "      <td>[0.0, 0.0, 0.0, 0.0, 0.0, 0.0, 0.0, 0.0, 0.0, ...</td>\n",
       "      <td>1</td>\n",
       "    </tr>\n",
       "    <tr>\n",
       "      <th>2639</th>\n",
       "      <td>2639</td>\n",
       "      <td>UI</td>\n",
       "      <td>java search package has no plug in export see ...</td>\n",
       "      <td>[0.0, 0.0, 0.0, 0.0, 0.0, 0.0, 0.0, 0.0, 0.0, ...</td>\n",
       "      <td>1</td>\n",
       "    </tr>\n",
       "    <tr>\n",
       "      <th>2640</th>\n",
       "      <td>2640</td>\n",
       "      <td>UI</td>\n",
       "      <td>rename inner type does not update constructor ...</td>\n",
       "      <td>[0.0, 0.0, 0.0, 0.0, 0.0, 0.0, 0.0, 0.0, 0.0, ...</td>\n",
       "      <td>1</td>\n",
       "    </tr>\n",
       "    <tr>\n",
       "      <th>2641</th>\n",
       "      <td>2641</td>\n",
       "      <td>UI</td>\n",
       "      <td>disable operation logical packages in i m not ...</td>\n",
       "      <td>[0.0, 0.0, 0.0, 0.0, 0.0, 0.0, 0.0, 0.0, 0.0, ...</td>\n",
       "      <td>1</td>\n",
       "    </tr>\n",
       "    <tr>\n",
       "      <th>2642</th>\n",
       "      <td>2642</td>\n",
       "      <td>UI</td>\n",
       "      <td>eclipse ca nt show fully code editor created a...</td>\n",
       "      <td>[0.0, 0.0, 0.0, 0.0, 0.0, 0.0, 0.0, 0.0, 0.0, ...</td>\n",
       "      <td>1</td>\n",
       "    </tr>\n",
       "  </tbody>\n",
       "</table>\n",
       "<p>2643 rows × 5 columns</p>\n",
       "</div>"
      ],
      "text/plain": [
       "           Component                                         bug report  \\\n",
       "0        0       APT  exception thrown reconcile got following excep...   \n",
       "1        1       APT  bug getting error trying install installing ne...   \n",
       "2        2       APT  unable load factory names container i have an ...   \n",
       "3        3       APT  headless build fails integrated external tool ...   \n",
       "4        4       APT  error type detection is too conservative compi...   \n",
       "...    ...       ...                                                ...   \n",
       "2638  2638        UI  trying externalize strings i got following i t...   \n",
       "2639  2639        UI  java search package has no plug in export see ...   \n",
       "2640  2640        UI  rename inner type does not update constructor ...   \n",
       "2641  2641        UI  disable operation logical packages in i m not ...   \n",
       "2642  2642        UI  eclipse ca nt show fully code editor created a...   \n",
       "\n",
       "                                                 tf-idf  id  \n",
       "0     [0.0, 0.0, 0.0, 0.0, 0.0, 0.0, 0.0, 0.0, 0.0, ...   0  \n",
       "1     [0.0, 0.0, 0.0, 0.0, 0.0, 0.0, 0.0, 0.0, 0.0, ...   0  \n",
       "2     [0.0, 0.0, 0.0, 0.0, 0.0, 0.0, 0.0, 0.0, 0.0, ...   0  \n",
       "3     [0.0, 0.0, 0.0, 0.0, 0.0, 0.0, 0.0, 0.0, 0.0, ...   0  \n",
       "4     [0.0, 0.0, 0.0, 0.0, 0.0, 0.0, 0.0, 0.0, 0.0, ...   0  \n",
       "...                                                 ...  ..  \n",
       "2638  [0.0, 0.0, 0.0, 0.0, 0.0, 0.0, 0.0, 0.0, 0.0, ...   1  \n",
       "2639  [0.0, 0.0, 0.0, 0.0, 0.0, 0.0, 0.0, 0.0, 0.0, ...   1  \n",
       "2640  [0.0, 0.0, 0.0, 0.0, 0.0, 0.0, 0.0, 0.0, 0.0, ...   1  \n",
       "2641  [0.0, 0.0, 0.0, 0.0, 0.0, 0.0, 0.0, 0.0, 0.0, ...   1  \n",
       "2642  [0.0, 0.0, 0.0, 0.0, 0.0, 0.0, 0.0, 0.0, 0.0, ...   1  \n",
       "\n",
       "[2643 rows x 5 columns]"
      ]
     },
     "execution_count": 7,
     "metadata": {},
     "output_type": "execute_result"
    }
   ],
   "source": [
    "dataframe"
   ]
  },
  {
   "cell_type": "code",
   "execution_count": 8,
   "id": "0a2c77e5",
   "metadata": {},
   "outputs": [],
   "source": [
    "classes = set(dataframe[\"Component\"])"
   ]
  },
  {
   "cell_type": "code",
   "execution_count": 9,
   "id": "c1b88e7d",
   "metadata": {},
   "outputs": [
    {
     "data": {
      "text/plain": [
       "{'APT', 'Core', 'Debug', 'Doc', 'Text', 'UI'}"
      ]
     },
     "execution_count": 9,
     "metadata": {},
     "output_type": "execute_result"
    }
   ],
   "source": [
    "classes"
   ]
  },
  {
   "cell_type": "code",
   "execution_count": 10,
   "id": "af6282e7",
   "metadata": {},
   "outputs": [],
   "source": [
    "random_class_selection = [dataframe[dataframe['id'] == classif].sample(1) for classif in set(dataframe['id'])]"
   ]
  },
  {
   "cell_type": "code",
   "execution_count": 11,
   "id": "df9cfd9b",
   "metadata": {},
   "outputs": [],
   "source": [
    "random_choices = [(sel['tf-idf'].values[0], sel['id'].values[0]) for sel in random_class_selection]"
   ]
  },
  {
   "cell_type": "code",
   "execution_count": 13,
   "id": "8333a571",
   "metadata": {},
   "outputs": [
    {
     "name": "stderr",
     "output_type": "stream",
     "text": [
      "/home/joe0400/.local/lib/python3.8/site-packages/sklearn/cluster/_kmeans.py:1146: RuntimeWarning: Explicit initial center position passed: performing only one init in KMeans instead of n_init=10.\n",
      "  self._check_params(X)\n"
     ]
    },
    {
     "name": "stdout",
     "output_type": "stream",
     "text": [
      "Initialization complete\n",
      "Iteration 0, inertia 4846.131650852004\n",
      "Iteration 1, inertia 2376.7179736047146\n",
      "Iteration 2, inertia 2297.5828871373246\n",
      "Iteration 3, inertia 2291.1471951897183\n",
      "Iteration 4, inertia 2285.983732660111\n",
      "Iteration 5, inertia 2282.0295256041236\n",
      "Iteration 6, inertia 2279.697123815059\n",
      "Iteration 7, inertia 2277.7770392310013\n",
      "Iteration 8, inertia 2276.4878366968915\n",
      "Iteration 9, inertia 2275.5619233808648\n",
      "Iteration 10, inertia 2274.871621378072\n",
      "Iteration 11, inertia 2274.399348232434\n",
      "Iteration 12, inertia 2273.8548787158607\n",
      "Iteration 13, inertia 2273.5260450049905\n",
      "Iteration 14, inertia 2273.304272175056\n",
      "Iteration 15, inertia 2273.1694157458\n",
      "Iteration 16, inertia 2273.074955852716\n",
      "Iteration 17, inertia 2272.9837644908002\n",
      "Iteration 18, inertia 2272.926037352198\n",
      "Iteration 19, inertia 2272.899357508869\n",
      "Iteration 20, inertia 2272.8859501129623\n",
      "Iteration 21, inertia 2272.882840456005\n",
      "Converged at iteration 21: strict convergence.\n"
     ]
    }
   ],
   "source": [
    "from sklearn.cluster import KMeans\n",
    "import numpy as np\n",
    "\n",
    "kmeans = KMeans(verbose=1,n_clusters=6,init=np.asarray([c[0] for c in random_choices]))\n",
    "tfs = np.asarray([each for each in dataframe['tf-idf']])\n",
    "clusters = kmeans.fit(tfs)"
   ]
  },
  {
   "cell_type": "code",
   "execution_count": null,
   "id": "a6856b75",
   "metadata": {},
   "outputs": [],
   "source": []
  },
  {
   "cell_type": "code",
   "execution_count": null,
   "id": "0965c160",
   "metadata": {},
   "outputs": [],
   "source": []
  },
  {
   "cell_type": "code",
   "execution_count": null,
   "id": "d87adec8",
   "metadata": {},
   "outputs": [],
   "source": []
  },
  {
   "cell_type": "code",
   "execution_count": 14,
   "id": "5f2b01d9",
   "metadata": {},
   "outputs": [],
   "source": [
    "confusion_matrix = {}\n",
    "for each in sorted(clusters.labels_):\n",
    "    confusion_matrix[each] = [0 for b in clusters.labels_]"
   ]
  },
  {
   "cell_type": "code",
   "execution_count": 15,
   "id": "011462b6",
   "metadata": {},
   "outputs": [],
   "source": [
    "for a,b in zip(clusters.labels_,dataframe['id']):\n",
    "    confusion_matrix[b][a] += 1\n"
   ]
  },
  {
   "cell_type": "code",
   "execution_count": 16,
   "id": "ef546307",
   "metadata": {},
   "outputs": [
    {
     "data": {
      "text/html": [
       "<div>\n",
       "<style scoped>\n",
       "    .dataframe tbody tr th:only-of-type {\n",
       "        vertical-align: middle;\n",
       "    }\n",
       "\n",
       "    .dataframe tbody tr th {\n",
       "        vertical-align: top;\n",
       "    }\n",
       "\n",
       "    .dataframe thead th {\n",
       "        text-align: right;\n",
       "    }\n",
       "</style>\n",
       "<table border=\"1\" class=\"dataframe\">\n",
       "  <thead>\n",
       "    <tr style=\"text-align: right;\">\n",
       "      <th></th>\n",
       "      <th>0</th>\n",
       "      <th>1</th>\n",
       "      <th>2</th>\n",
       "      <th>3</th>\n",
       "      <th>4</th>\n",
       "      <th>5</th>\n",
       "    </tr>\n",
       "  </thead>\n",
       "  <tbody>\n",
       "    <tr>\n",
       "      <th>0</th>\n",
       "      <td>53</td>\n",
       "      <td>103</td>\n",
       "      <td>9</td>\n",
       "      <td>1</td>\n",
       "      <td>82</td>\n",
       "      <td>36</td>\n",
       "    </tr>\n",
       "    <tr>\n",
       "      <th>1</th>\n",
       "      <td>141</td>\n",
       "      <td>2</td>\n",
       "      <td>0</td>\n",
       "      <td>1</td>\n",
       "      <td>6</td>\n",
       "      <td>0</td>\n",
       "    </tr>\n",
       "    <tr>\n",
       "      <th>2</th>\n",
       "      <td>120</td>\n",
       "      <td>392</td>\n",
       "      <td>80</td>\n",
       "      <td>161</td>\n",
       "      <td>194</td>\n",
       "      <td>251</td>\n",
       "    </tr>\n",
       "    <tr>\n",
       "      <th>3</th>\n",
       "      <td>7</td>\n",
       "      <td>89</td>\n",
       "      <td>6</td>\n",
       "      <td>2</td>\n",
       "      <td>171</td>\n",
       "      <td>29</td>\n",
       "    </tr>\n",
       "    <tr>\n",
       "      <th>4</th>\n",
       "      <td>38</td>\n",
       "      <td>95</td>\n",
       "      <td>9</td>\n",
       "      <td>10</td>\n",
       "      <td>98</td>\n",
       "      <td>48</td>\n",
       "    </tr>\n",
       "  </tbody>\n",
       "</table>\n",
       "</div>"
      ],
      "text/plain": [
       "     0    1   2    3    4    5\n",
       "0   53  103   9    1   82   36\n",
       "1  141    2   0    1    6    0\n",
       "2  120  392  80  161  194  251\n",
       "3    7   89   6    2  171   29\n",
       "4   38   95   9   10   98   48"
      ]
     },
     "execution_count": 16,
     "metadata": {},
     "output_type": "execute_result"
    }
   ],
   "source": [
    "pandas.DataFrame(confusion_matrix).iloc[[0,1,2,3,4]] # to show the confusion matrix."
   ]
  },
  {
   "cell_type": "code",
   "execution_count": null,
   "id": "fed0d764",
   "metadata": {},
   "outputs": [],
   "source": [
    "#  it seems like its not a great implementation for this.\n",
    "#  Its diaganol is not great, as it often isnt a great matrix for the mix."
   ]
  }
 ],
 "metadata": {
  "kernelspec": {
   "display_name": "Python 3",
   "language": "python",
   "name": "python3"
  },
  "language_info": {
   "codemirror_mode": {
    "name": "ipython",
    "version": 3
   },
   "file_extension": ".py",
   "mimetype": "text/x-python",
   "name": "python",
   "nbconvert_exporter": "python",
   "pygments_lexer": "ipython3",
   "version": "3.8.10"
  }
 },
 "nbformat": 4,
 "nbformat_minor": 5
}
